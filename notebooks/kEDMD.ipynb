{
  "nbformat": 4,
  "nbformat_minor": 0,
  "metadata": {
    "colab": {
      "provenance": []
    },
    "kernelspec": {
      "name": "python3",
      "display_name": "Python 3"
    },
    "language_info": {
      "name": "python"
    }
  },
  "cells": [
    {
      "cell_type": "code",
      "execution_count": 1,
      "metadata": {
        "colab": {
          "base_uri": "https://localhost:8080/"
        },
        "id": "umRxX7tX4PSC",
        "outputId": "a4cb41d5-1459-4eb3-cb57-354083f6c054"
      },
      "outputs": [
        {
          "output_type": "stream",
          "name": "stdout",
          "text": [
            "Collecting KKKF\n",
            "  Downloading KKKF-0.4-py3-none-any.whl.metadata (5.5 kB)\n",
            "Requirement already satisfied: numpy in /usr/local/lib/python3.10/dist-packages (from KKKF) (1.26.4)\n",
            "Requirement already satisfied: scipy in /usr/local/lib/python3.10/dist-packages (from KKKF) (1.13.1)\n",
            "Requirement already satisfied: scikit-learn in /usr/local/lib/python3.10/dist-packages (from KKKF) (1.6.0)\n",
            "Requirement already satisfied: joblib>=1.2.0 in /usr/local/lib/python3.10/dist-packages (from scikit-learn->KKKF) (1.4.2)\n",
            "Requirement already satisfied: threadpoolctl>=3.1.0 in /usr/local/lib/python3.10/dist-packages (from scikit-learn->KKKF) (3.5.0)\n",
            "Downloading KKKF-0.4-py3-none-any.whl (12 kB)\n",
            "Installing collected packages: KKKF\n",
            "Successfully installed KKKF-0.4\n",
            "Collecting kaleido\n",
            "  Downloading kaleido-0.2.1-py2.py3-none-manylinux1_x86_64.whl.metadata (15 kB)\n",
            "Downloading kaleido-0.2.1-py2.py3-none-manylinux1_x86_64.whl (79.9 MB)\n",
            "\u001b[2K   \u001b[90m━━━━━━━━━━━━━━━━━━━━━━━━━━━━━━━━━━━━━━━━\u001b[0m \u001b[32m79.9/79.9 MB\u001b[0m \u001b[31m9.5 MB/s\u001b[0m eta \u001b[36m0:00:00\u001b[0m\n",
            "\u001b[?25hInstalling collected packages: kaleido\n",
            "Successfully installed kaleido-0.2.1\n"
          ]
        }
      ],
      "source": [
        "!pip install KKKF\n",
        "!pip install -U kaleido"
      ]
    },
    {
      "cell_type": "code",
      "source": [
        "!git clone https://github.com/diegoolguinw/Koopman_nonlinear_filter.git"
      ],
      "metadata": {
        "colab": {
          "base_uri": "https://localhost:8080/"
        },
        "id": "z6JkBLAjOPdt",
        "outputId": "e95b568b-1243-4b2c-a672-7b9055e61354"
      },
      "execution_count": 2,
      "outputs": [
        {
          "output_type": "stream",
          "name": "stdout",
          "text": [
            "Cloning into 'Koopman_nonlinear_filter'...\n",
            "remote: Enumerating objects: 61, done.\u001b[K\n",
            "remote: Counting objects: 100% (61/61), done.\u001b[K\n",
            "remote: Compressing objects: 100% (53/53), done.\u001b[K\n",
            "remote: Total 61 (delta 9), reused 10 (delta 4), pack-reused 0 (from 0)\u001b[K\n",
            "Receiving objects: 100% (61/61), 1.36 MiB | 17.42 MiB/s, done.\n",
            "Resolving deltas: 100% (9/9), done.\n"
          ]
        }
      ]
    },
    {
      "cell_type": "code",
      "source": [
        "chapter = \"chapter3/\"\n",
        "img_path = \"Koopman_nonlinear_filter/img/content/\"+chapter"
      ],
      "metadata": {
        "id": "rBlzexx5OiIv"
      },
      "execution_count": 3,
      "outputs": []
    },
    {
      "cell_type": "code",
      "source": [
        "import numpy as np\n",
        "import matplotlib.pyplot as plt\n",
        "from scipy import stats\n",
        "from sklearn.gaussian_process.kernels import Matern\n",
        "from KKKF.DynamicalSystems import DynamicalSystem\n",
        "from KKKF.kEDMD import KoopmanOperator\n",
        "\n",
        "# Plotly\n",
        "import plotly.express as px\n",
        "import plotly.graph_objects as go\n",
        "from plotly.subplots import make_subplots\n",
        "import kaleido"
      ],
      "metadata": {
        "id": "7Sx4SN8u4UmR"
      },
      "execution_count": 4,
      "outputs": []
    },
    {
      "cell_type": "code",
      "source": [
        "# Matriz del modelo lineal\n",
        "A = np.array([\n",
        "    [0.01, 0.04, 0.0],\n",
        "    [0.01, 0.02, 0.01],\n",
        "    [0.0, 0.04, 0.02]\n",
        "])\n",
        "\n",
        "# Dinámica del sistema\n",
        "def f(x):\n",
        "    return x + A@x\n",
        "\n",
        "# Observaciones del sistema, irrelevantes para este ejemplo\n",
        "def g(x):\n",
        "    return x\n",
        "\n",
        "# Dimensiones y el kernel\n",
        "N = 1000\n",
        "nx, ny = 3, 3\n",
        "k = Matern(length_scale=1e3, nu=0.5)\n",
        "\n",
        "# Distribuciones\n",
        "X_dist = stats.multivariate_normal(mean=np.zeros(nx), cov=10*np.eye(3))\n",
        "dyn_dist = stats.multivariate_normal(mean=np.zeros(nx), cov=1e-7*np.eye(3))\n",
        "obs_dist = stats.multivariate_normal(mean=np.zeros(1), cov=1e-7*np.eye(1))\n",
        "\n",
        "# Sistema dinámico\n",
        "dyn = DynamicalSystem(nx, ny, f, g, X_dist, dyn_dist, obs_dist, discrete_time=True)\n",
        "\n",
        "# Datos sintéticos\n",
        "iters = 50\n",
        "x0 = np.array([0.9, 0.1, 0.0])\n",
        "x = np.zeros((iters, nx))\n",
        "\n",
        "x[0] = x0\n",
        "\n",
        "for i in range(1, iters):\n",
        "    x[i] = f(x[i-1])\n",
        "\n",
        "# Operador de Koopman\n",
        "Koop = KoopmanOperator(k, dyn)\n",
        "Koop.compute_edmd(N)\n",
        "\n",
        "U, B, phi = Koop.U, Koop.B, Koop.phi\n",
        "\n",
        "# Sistema con Koopman\n",
        "x_koop = np.zeros((iters, nx))\n",
        "x_koop[0] = B@phi(x0)\n",
        "z = np.zeros((iters, N))\n",
        "z[0] = phi(x0)\n",
        "\n",
        "for i in range(1, iters):\n",
        "    z[i] = U@z[i-1]\n",
        "    x_koop[i] = B@z[i]\n",
        "\n",
        "t = np.arange(iters)\n",
        "\n",
        "# Gráfico\n",
        "fig = go.Figure()\n",
        "\n",
        "fig.add_trace(go.Scatter(x=t, y=x[:,0], name='S real', mode='markers'))\n",
        "fig.add_trace(go.Scatter(x=t, y=x[:,1], name='I real', mode='markers'))\n",
        "fig.add_trace(go.Scatter(x=t, y=x[:,2], name='R real', mode='markers'))\n",
        "\n",
        "fig.add_trace(go.Scatter(x=t, y=x_koop[:,0], name='S predicho'))\n",
        "fig.add_trace(go.Scatter(x=t, y=x_koop[:,1], name='I predicho'))\n",
        "fig.add_trace(go.Scatter(x=t, y=x_koop[:,2], name='R predicho'))\n",
        "\n",
        "# Colocar titulo\n",
        "fig.update_layout(\n",
        "    title=f\"kEDMD para modelo lineal con {N} puntos\",\n",
        "    xaxis_title=\"Tiempo\",\n",
        "    yaxis_title=\"Estados\"\n",
        "    )\n",
        "\n",
        "fig.show()"
      ],
      "metadata": {
        "colab": {
          "base_uri": "https://localhost:8080/",
          "height": 542
        },
        "id": "-cfgg09cPNpH",
        "outputId": "9e251220-acd7-4b19-aa91-e30dbba9f281"
      },
      "execution_count": 5,
      "outputs": [
        {
          "output_type": "display_data",
          "data": {
            "text/html": [
              "<html>\n",
              "<head><meta charset=\"utf-8\" /></head>\n",
              "<body>\n",
              "    <div>            <script src=\"https://cdnjs.cloudflare.com/ajax/libs/mathjax/2.7.5/MathJax.js?config=TeX-AMS-MML_SVG\"></script><script type=\"text/javascript\">if (window.MathJax && window.MathJax.Hub && window.MathJax.Hub.Config) {window.MathJax.Hub.Config({SVG: {font: \"STIX-Web\"}});}</script>                <script type=\"text/javascript\">window.PlotlyConfig = {MathJaxConfig: 'local'};</script>\n",
              "        <script charset=\"utf-8\" src=\"https://cdn.plot.ly/plotly-2.35.2.min.js\"></script>                <div id=\"6d8ba7a8-e41a-4d54-979b-74f9db1ceb5a\" class=\"plotly-graph-div\" style=\"height:525px; width:100%;\"></div>            <script type=\"text/javascript\">                                    window.PLOTLYENV=window.PLOTLYENV || {};                                    if (document.getElementById(\"6d8ba7a8-e41a-4d54-979b-74f9db1ceb5a\")) {                    Plotly.newPlot(                        \"6d8ba7a8-e41a-4d54-979b-74f9db1ceb5a\",                        [{\"mode\":\"markers\",\"name\":\"S real\",\"x\":[0,1,2,3,4,5,6,7,8,9,10,11,12,13,14,15,16,17,18,19,20,21,22,23,24,25,26,27,28,29,30,31,32,33,34,35,36,37,38,39,40,41,42,43,44,45,46,47,48,49],\"y\":[0.9,0.913,0.92657,0.9407313,0.9555061610000001,0.9709178484900001,0.9869906779441001,1.0037500624112172,1.0212225622992142,1.0394359374537114,1.058419201637535,1.0782026795216524,1.098818066303579,1.1202984900745918,1.1426785770627093,1.1659945198842563,1.1902841489429834,1.2155870071221333,1.2419444279215681,1.2693996171991104,1.2979977386826087,1.3277860034269373,1.3588137633982003,1.3911326093758347,1.4247964733721319,1.4598617357779178,1.4963873374527916,1.534434896988421,1.5740688333839574,1.6153564943836967,1.658368290738673,1.7031778366659809,1.7498620967922822,1.7985015398812005,1.8491802996581734,1.9019863430608295,1.9570116462581335,2.0143523787974207,2.0741090962550457,2.1363869417837558,2.2012958569680743,2.268950802418012,2.339471988551315,2.4129851170352965,2.489621633381071,2.5695189912058187,2.6528209287025533,2.7396777578818066,2.830246667175775,2.924692038022764],\"type\":\"scatter\"},{\"mode\":\"markers\",\"name\":\"I real\",\"x\":[0,1,2,3,4,5,6,7,8,9,10,11,12,13,14,15,16,17,18,19,20,21,22,23,24,25,26,27,28,29,30,31,32,33,34,35,36,37,38,39,40,41,42,43,44,45,46,47,48,49],\"y\":[0.1,0.111,0.12239,0.1341887,0.14641564699999998,0.15909127422999997,0.17223694219189997,0.18587498159711896,0.20002873828762907,0.21472262023215732,0.22998214669355183,0.2458339996677496,0.26230607769942893,0.2794275521842904,0.29722892627299574,0.31574209649711554,0.33500041724300306,0.35503876820533653,0.3758936249581662,0.397603132787679,0.4202071839375634,0.44374749842483835,0.46826770859131106,0.4938134475634699,0.5204324418016119,0.5481746079273673,0.5770921540275363,0.6072396856413053,0.6386743166474907,0.6714557852784813,0.705646575498032,0.7413120439910379,0.7785205530248893,0.8173436094540246,0.8578560101518561,0.9001359941673943,0.944265401917649,0.9903298417412747,1.0384188641539867,1.088626144162024,1.1410496720064187,1.1957919527280758,1.252960214961705,1.3126666293855287,1.3750285372734348,1.440168689616908,1.5082154973056912,1.579303292878752,1.6535726043807872,1.7311704418842673],\"type\":\"scatter\"},{\"mode\":\"markers\",\"name\":\"R real\",\"x\":[0,1,2,3,4,5,6,7,8,9,10,11,12,13,14,15,16,17,18,19,20,21,22,23,24,25,26,27,28,29,30,31,32,33,34,35,36,37,38,39,40,41,42,43,44,45,46,47,48,49],\"y\":[0.0,0.004,0.00852,0.013586,0.019225268,0.02546639924,0.032339378194,0.039875643445556,0.04810815557835188,0.05707146822142408,0.06680180239513886,0.07733712431078371,0.08871722678370937,0.10098381442736072,0.11418059280327955,0.12835336171026498,0.1435501128043549,0.1598211317501621,0.1772191051133788,0.19579923221397302,0.21561934216975964,0.23674001637065736,0.259224716635064,0.28313991931141774,0.3085552556001849,0.33554365838425304,0.3641815158690328,0.3945488323475149,0.4267293964201174,0.46081095701441943,0.4968854075658471,0.5350489787370853,0.5754024400714686,0.6180513109938935,0.6631060815919324,0.7106824436298453,0.760901532269138,0.8138901789912267,0.8697811762407023,0.9287135543316758,0.9908328711847902,1.056291515488743,1.1252490239076407,1.1978724129842617,1.274336526419368,1.3548243984386927,1.439527633992143,1.5286468065642136,1.622391874410648,1.7209826160740924],\"type\":\"scatter\"},{\"name\":\"S predicho\",\"x\":[0,1,2,3,4,5,6,7,8,9,10,11,12,13,14,15,16,17,18,19,20,21,22,23,24,25,26,27,28,29,30,31,32,33,34,35,36,37,38,39,40,41,42,43,44,45,46,47,48,49],\"y\":[0.8999998963953999,0.9130006070302272,0.9265720868672531,0.9407356439825207,0.9555132077092594,0.9709273715739641,0.9870014560354434,1.0037596091789567,1.0212269590774667,1.0394298251560485,1.0583959879415374,1.078155008648423,1.0987385832951873,1.1201809111504417,1.1425190543268116,1.1657932645531162,1.1900472541050533,1.2153283904405328,1.2416877977776437,1.2691803534584096,1.297864571902295,1.3278023740243157,1.3590587449503175,1.3917012873122587,1.4257996812438307,1.4614250654403236,1.498649355874818,1.5375445203965228,1.5781818280980247,1.6206310923788294,1.664959925923057,1.7112330245766998,1.7595114953909388,1.8098522420376355,1.8623074184908148,1.9169239594461374,1.9737431934302947,2.0328005421520174,2.0941253073397945,2.1577405441234134,2.2236630181998294,2.2919032422946657,2.3624655861243014,2.43534845297566,2.5105445152027244,2.5880410004375562,2.6678200201268396,2.749858931821052,2.8341307270083007,2.9206044365011223],\"type\":\"scatter\"},{\"name\":\"I predicho\",\"x\":[0,1,2,3,4,5,6,7,8,9,10,11,12,13,14,15,16,17,18,19,20,21,22,23,24,25,26,27,28,29,30,31,32,33,34,35,36,37,38,39,40,41,42,43,44,45,46,47,48,49],\"y\":[0.10000050077937317,0.11100132180079925,0.12239258055755897,0.13419283064146725,0.14642133108041833,0.15909804414879147,0.1722436565851524,0.18587963157467868,0.2000282993893734,0.21471299413204292,0.22995824064240367,0.2457899902966858,0.262235898488683,0.2793256309892058,0.29709118202202944,0.31556718400072725,0.3347911878285572,0.35480389318431094,0.37564931031361937,0.39737483800776374,0.42003124647681034,0.44367255831751606,0.4683558253504998,0.4941408036324759,0.5210895329673093,0.5492658308753136,0.5787347138129917,0.6095617606352732,0.6418124347183038,0.6755513818547314,0.7108417210476006,0.7477443447884298,0.786317244247897,0.8266148733493139,0.8686875638125429,0.9125810012159548,0.9583357699442985,1.005986972669703,1.0555639278258155,1.1070899464747157,1.1605821880417437,1.2160515927080127,1.2735028867173952,1.3329346556942738,1.3943394800205766,1.4577041256491867,1.5230097832189387,1.590232348102134,1.6593427339618927,1.7303072125409784],\"type\":\"scatter\"},{\"name\":\"R predicho\",\"x\":[0,1,2,3,4,5,6,7,8,9,10,11,12,13,14,15,16,17,18,19,20,21,22,23,24,25,26,27,28,29,30,31,32,33,34,35,36,37,38,39,40,41,42,43,44,45,46,47,48,49],\"y\":[-1.0694691354729002e-8,0.003999656061182577,0.008519474540776173,0.013585536190106495,0.019225098572675847,0.025466560538490057,0.03233945455232856,0.039874473857025805,0.04810355290187829,0.05706001510665715,0.0667787947758427,0.07729673158159756,0.08865292764953381,0.10088915009050936,0.11405025635895072,0.12818461651252733,0.1433445051903277,0.15958643708150078,0.17697142208325545,0.19556512039648055,0.21543788261894292,0.23666466540061037,0.25932481884936465,0.28350174737710176,0.30928245078185057,0.33675695679629314,0.36601766004201863,0.39715858512848,0.43027459356336806,0.46546055512175144,0.502810504572281,0.5424168039617854,0.5843693295347947,0.6287547004729248,0.675655564505945,0.7251499529178602,0.7773107148174603,0.8322050378336883,0.8898940596945835,0.9504325726300635,1.0138688201506056,1.0802443836841178,1.149594154718372,1.221946386588371,1.297322818899147,1.3757388666406456,1.4572038655594923,1.541721365019498,1.6292894595681702,1.719901150622448],\"type\":\"scatter\"}],                        {\"template\":{\"data\":{\"histogram2dcontour\":[{\"type\":\"histogram2dcontour\",\"colorbar\":{\"outlinewidth\":0,\"ticks\":\"\"},\"colorscale\":[[0.0,\"#0d0887\"],[0.1111111111111111,\"#46039f\"],[0.2222222222222222,\"#7201a8\"],[0.3333333333333333,\"#9c179e\"],[0.4444444444444444,\"#bd3786\"],[0.5555555555555556,\"#d8576b\"],[0.6666666666666666,\"#ed7953\"],[0.7777777777777778,\"#fb9f3a\"],[0.8888888888888888,\"#fdca26\"],[1.0,\"#f0f921\"]]}],\"choropleth\":[{\"type\":\"choropleth\",\"colorbar\":{\"outlinewidth\":0,\"ticks\":\"\"}}],\"histogram2d\":[{\"type\":\"histogram2d\",\"colorbar\":{\"outlinewidth\":0,\"ticks\":\"\"},\"colorscale\":[[0.0,\"#0d0887\"],[0.1111111111111111,\"#46039f\"],[0.2222222222222222,\"#7201a8\"],[0.3333333333333333,\"#9c179e\"],[0.4444444444444444,\"#bd3786\"],[0.5555555555555556,\"#d8576b\"],[0.6666666666666666,\"#ed7953\"],[0.7777777777777778,\"#fb9f3a\"],[0.8888888888888888,\"#fdca26\"],[1.0,\"#f0f921\"]]}],\"heatmap\":[{\"type\":\"heatmap\",\"colorbar\":{\"outlinewidth\":0,\"ticks\":\"\"},\"colorscale\":[[0.0,\"#0d0887\"],[0.1111111111111111,\"#46039f\"],[0.2222222222222222,\"#7201a8\"],[0.3333333333333333,\"#9c179e\"],[0.4444444444444444,\"#bd3786\"],[0.5555555555555556,\"#d8576b\"],[0.6666666666666666,\"#ed7953\"],[0.7777777777777778,\"#fb9f3a\"],[0.8888888888888888,\"#fdca26\"],[1.0,\"#f0f921\"]]}],\"heatmapgl\":[{\"type\":\"heatmapgl\",\"colorbar\":{\"outlinewidth\":0,\"ticks\":\"\"},\"colorscale\":[[0.0,\"#0d0887\"],[0.1111111111111111,\"#46039f\"],[0.2222222222222222,\"#7201a8\"],[0.3333333333333333,\"#9c179e\"],[0.4444444444444444,\"#bd3786\"],[0.5555555555555556,\"#d8576b\"],[0.6666666666666666,\"#ed7953\"],[0.7777777777777778,\"#fb9f3a\"],[0.8888888888888888,\"#fdca26\"],[1.0,\"#f0f921\"]]}],\"contourcarpet\":[{\"type\":\"contourcarpet\",\"colorbar\":{\"outlinewidth\":0,\"ticks\":\"\"}}],\"contour\":[{\"type\":\"contour\",\"colorbar\":{\"outlinewidth\":0,\"ticks\":\"\"},\"colorscale\":[[0.0,\"#0d0887\"],[0.1111111111111111,\"#46039f\"],[0.2222222222222222,\"#7201a8\"],[0.3333333333333333,\"#9c179e\"],[0.4444444444444444,\"#bd3786\"],[0.5555555555555556,\"#d8576b\"],[0.6666666666666666,\"#ed7953\"],[0.7777777777777778,\"#fb9f3a\"],[0.8888888888888888,\"#fdca26\"],[1.0,\"#f0f921\"]]}],\"surface\":[{\"type\":\"surface\",\"colorbar\":{\"outlinewidth\":0,\"ticks\":\"\"},\"colorscale\":[[0.0,\"#0d0887\"],[0.1111111111111111,\"#46039f\"],[0.2222222222222222,\"#7201a8\"],[0.3333333333333333,\"#9c179e\"],[0.4444444444444444,\"#bd3786\"],[0.5555555555555556,\"#d8576b\"],[0.6666666666666666,\"#ed7953\"],[0.7777777777777778,\"#fb9f3a\"],[0.8888888888888888,\"#fdca26\"],[1.0,\"#f0f921\"]]}],\"mesh3d\":[{\"type\":\"mesh3d\",\"colorbar\":{\"outlinewidth\":0,\"ticks\":\"\"}}],\"scatter\":[{\"fillpattern\":{\"fillmode\":\"overlay\",\"size\":10,\"solidity\":0.2},\"type\":\"scatter\"}],\"parcoords\":[{\"type\":\"parcoords\",\"line\":{\"colorbar\":{\"outlinewidth\":0,\"ticks\":\"\"}}}],\"scatterpolargl\":[{\"type\":\"scatterpolargl\",\"marker\":{\"colorbar\":{\"outlinewidth\":0,\"ticks\":\"\"}}}],\"bar\":[{\"error_x\":{\"color\":\"#2a3f5f\"},\"error_y\":{\"color\":\"#2a3f5f\"},\"marker\":{\"line\":{\"color\":\"#E5ECF6\",\"width\":0.5},\"pattern\":{\"fillmode\":\"overlay\",\"size\":10,\"solidity\":0.2}},\"type\":\"bar\"}],\"scattergeo\":[{\"type\":\"scattergeo\",\"marker\":{\"colorbar\":{\"outlinewidth\":0,\"ticks\":\"\"}}}],\"scatterpolar\":[{\"type\":\"scatterpolar\",\"marker\":{\"colorbar\":{\"outlinewidth\":0,\"ticks\":\"\"}}}],\"histogram\":[{\"marker\":{\"pattern\":{\"fillmode\":\"overlay\",\"size\":10,\"solidity\":0.2}},\"type\":\"histogram\"}],\"scattergl\":[{\"type\":\"scattergl\",\"marker\":{\"colorbar\":{\"outlinewidth\":0,\"ticks\":\"\"}}}],\"scatter3d\":[{\"type\":\"scatter3d\",\"line\":{\"colorbar\":{\"outlinewidth\":0,\"ticks\":\"\"}},\"marker\":{\"colorbar\":{\"outlinewidth\":0,\"ticks\":\"\"}}}],\"scattermapbox\":[{\"type\":\"scattermapbox\",\"marker\":{\"colorbar\":{\"outlinewidth\":0,\"ticks\":\"\"}}}],\"scatterternary\":[{\"type\":\"scatterternary\",\"marker\":{\"colorbar\":{\"outlinewidth\":0,\"ticks\":\"\"}}}],\"scattercarpet\":[{\"type\":\"scattercarpet\",\"marker\":{\"colorbar\":{\"outlinewidth\":0,\"ticks\":\"\"}}}],\"carpet\":[{\"aaxis\":{\"endlinecolor\":\"#2a3f5f\",\"gridcolor\":\"white\",\"linecolor\":\"white\",\"minorgridcolor\":\"white\",\"startlinecolor\":\"#2a3f5f\"},\"baxis\":{\"endlinecolor\":\"#2a3f5f\",\"gridcolor\":\"white\",\"linecolor\":\"white\",\"minorgridcolor\":\"white\",\"startlinecolor\":\"#2a3f5f\"},\"type\":\"carpet\"}],\"table\":[{\"cells\":{\"fill\":{\"color\":\"#EBF0F8\"},\"line\":{\"color\":\"white\"}},\"header\":{\"fill\":{\"color\":\"#C8D4E3\"},\"line\":{\"color\":\"white\"}},\"type\":\"table\"}],\"barpolar\":[{\"marker\":{\"line\":{\"color\":\"#E5ECF6\",\"width\":0.5},\"pattern\":{\"fillmode\":\"overlay\",\"size\":10,\"solidity\":0.2}},\"type\":\"barpolar\"}],\"pie\":[{\"automargin\":true,\"type\":\"pie\"}]},\"layout\":{\"autotypenumbers\":\"strict\",\"colorway\":[\"#636efa\",\"#EF553B\",\"#00cc96\",\"#ab63fa\",\"#FFA15A\",\"#19d3f3\",\"#FF6692\",\"#B6E880\",\"#FF97FF\",\"#FECB52\"],\"font\":{\"color\":\"#2a3f5f\"},\"hovermode\":\"closest\",\"hoverlabel\":{\"align\":\"left\"},\"paper_bgcolor\":\"white\",\"plot_bgcolor\":\"#E5ECF6\",\"polar\":{\"bgcolor\":\"#E5ECF6\",\"angularaxis\":{\"gridcolor\":\"white\",\"linecolor\":\"white\",\"ticks\":\"\"},\"radialaxis\":{\"gridcolor\":\"white\",\"linecolor\":\"white\",\"ticks\":\"\"}},\"ternary\":{\"bgcolor\":\"#E5ECF6\",\"aaxis\":{\"gridcolor\":\"white\",\"linecolor\":\"white\",\"ticks\":\"\"},\"baxis\":{\"gridcolor\":\"white\",\"linecolor\":\"white\",\"ticks\":\"\"},\"caxis\":{\"gridcolor\":\"white\",\"linecolor\":\"white\",\"ticks\":\"\"}},\"coloraxis\":{\"colorbar\":{\"outlinewidth\":0,\"ticks\":\"\"}},\"colorscale\":{\"sequential\":[[0.0,\"#0d0887\"],[0.1111111111111111,\"#46039f\"],[0.2222222222222222,\"#7201a8\"],[0.3333333333333333,\"#9c179e\"],[0.4444444444444444,\"#bd3786\"],[0.5555555555555556,\"#d8576b\"],[0.6666666666666666,\"#ed7953\"],[0.7777777777777778,\"#fb9f3a\"],[0.8888888888888888,\"#fdca26\"],[1.0,\"#f0f921\"]],\"sequentialminus\":[[0.0,\"#0d0887\"],[0.1111111111111111,\"#46039f\"],[0.2222222222222222,\"#7201a8\"],[0.3333333333333333,\"#9c179e\"],[0.4444444444444444,\"#bd3786\"],[0.5555555555555556,\"#d8576b\"],[0.6666666666666666,\"#ed7953\"],[0.7777777777777778,\"#fb9f3a\"],[0.8888888888888888,\"#fdca26\"],[1.0,\"#f0f921\"]],\"diverging\":[[0,\"#8e0152\"],[0.1,\"#c51b7d\"],[0.2,\"#de77ae\"],[0.3,\"#f1b6da\"],[0.4,\"#fde0ef\"],[0.5,\"#f7f7f7\"],[0.6,\"#e6f5d0\"],[0.7,\"#b8e186\"],[0.8,\"#7fbc41\"],[0.9,\"#4d9221\"],[1,\"#276419\"]]},\"xaxis\":{\"gridcolor\":\"white\",\"linecolor\":\"white\",\"ticks\":\"\",\"title\":{\"standoff\":15},\"zerolinecolor\":\"white\",\"automargin\":true,\"zerolinewidth\":2},\"yaxis\":{\"gridcolor\":\"white\",\"linecolor\":\"white\",\"ticks\":\"\",\"title\":{\"standoff\":15},\"zerolinecolor\":\"white\",\"automargin\":true,\"zerolinewidth\":2},\"scene\":{\"xaxis\":{\"backgroundcolor\":\"#E5ECF6\",\"gridcolor\":\"white\",\"linecolor\":\"white\",\"showbackground\":true,\"ticks\":\"\",\"zerolinecolor\":\"white\",\"gridwidth\":2},\"yaxis\":{\"backgroundcolor\":\"#E5ECF6\",\"gridcolor\":\"white\",\"linecolor\":\"white\",\"showbackground\":true,\"ticks\":\"\",\"zerolinecolor\":\"white\",\"gridwidth\":2},\"zaxis\":{\"backgroundcolor\":\"#E5ECF6\",\"gridcolor\":\"white\",\"linecolor\":\"white\",\"showbackground\":true,\"ticks\":\"\",\"zerolinecolor\":\"white\",\"gridwidth\":2}},\"shapedefaults\":{\"line\":{\"color\":\"#2a3f5f\"}},\"annotationdefaults\":{\"arrowcolor\":\"#2a3f5f\",\"arrowhead\":0,\"arrowwidth\":1},\"geo\":{\"bgcolor\":\"white\",\"landcolor\":\"#E5ECF6\",\"subunitcolor\":\"white\",\"showland\":true,\"showlakes\":true,\"lakecolor\":\"white\"},\"title\":{\"x\":0.05},\"mapbox\":{\"style\":\"light\"}}},\"title\":{\"text\":\"kEDMD para modelo lineal con 1000 puntos\"},\"xaxis\":{\"title\":{\"text\":\"Tiempo\"}},\"yaxis\":{\"title\":{\"text\":\"Estados\"}}},                        {\"responsive\": true}                    ).then(function(){\n",
              "                            \n",
              "var gd = document.getElementById('6d8ba7a8-e41a-4d54-979b-74f9db1ceb5a');\n",
              "var x = new MutationObserver(function (mutations, observer) {{\n",
              "        var display = window.getComputedStyle(gd).display;\n",
              "        if (!display || display === 'none') {{\n",
              "            console.log([gd, 'removed!']);\n",
              "            Plotly.purge(gd);\n",
              "            observer.disconnect();\n",
              "        }}\n",
              "}});\n",
              "\n",
              "// Listen for the removal of the full notebook cells\n",
              "var notebookContainer = gd.closest('#notebook-container');\n",
              "if (notebookContainer) {{\n",
              "    x.observe(notebookContainer, {childList: true});\n",
              "}}\n",
              "\n",
              "// Listen for the clearing of the current output cell\n",
              "var outputEl = gd.closest('.output');\n",
              "if (outputEl) {{\n",
              "    x.observe(outputEl, {childList: true});\n",
              "}}\n",
              "\n",
              "                        })                };                            </script>        </div>\n",
              "</body>\n",
              "</html>"
            ]
          },
          "metadata": {}
        }
      ]
    },
    {
      "cell_type": "code",
      "source": [
        "fig.write_image(img_path+\"Lineal.pdf\")"
      ],
      "metadata": {
        "id": "7JiUXlndQB_H"
      },
      "execution_count": 6,
      "outputs": []
    },
    {
      "cell_type": "code",
      "source": [
        "# Parámetros del modelo SIR\n",
        "beta, gamma = 1, 0.3\n",
        "\n",
        "# Dinámica del sistema\n",
        "def f(x):\n",
        "    return np.array([x[0]-beta*x[0]*x[1] ,x[1]+beta*x[0]*x[1] - gamma*x[1], x[2]+gamma*x[1]])\n",
        "\n",
        "# Observaciones del sistema, irrelevantes para este ejemplo\n",
        "def g(x):\n",
        "    return x\n",
        "\n",
        "# Dimensiones y el kernel\n",
        "N = 500\n",
        "nx, ny = 3, 3\n",
        "k = Matern(length_scale=1e3, nu=0.5)\n",
        "\n",
        "# Distribuciones\n",
        "X_dist = stats.dirichlet(alpha=1/3*np.ones(nx))\n",
        "dyn_dist = stats.multivariate_normal(mean=np.zeros(nx), cov=1e-7*np.eye(3))\n",
        "obs_dist = stats.multivariate_normal(mean=np.zeros(1), cov=1e-7*np.eye(1))\n",
        "\n",
        "# Sistema dinámico\n",
        "dyn = DynamicalSystem(nx, ny, f, g, X_dist, dyn_dist, obs_dist, discrete_time=True)\n",
        "\n",
        "# Datos sintéticos\n",
        "iters = 20\n",
        "x0 = np.array([0.9, 0.1, 0.0])\n",
        "x = np.zeros((iters, nx))\n",
        "\n",
        "x[0] = x0\n",
        "\n",
        "for i in range(1, iters):\n",
        "    x[i] = f(x[i-1])\n",
        "\n",
        "# Operador de Koopman\n",
        "Koop = KoopmanOperator(k, dyn)\n",
        "Koop.compute_edmd(N)\n",
        "\n",
        "U, B, phi = Koop.U, Koop.B, Koop.phi\n",
        "\n",
        "# Sistema con Koopman\n",
        "x_koop = np.zeros((iters, nx))\n",
        "x_koop[0] = B@phi(x0)\n",
        "z = np.zeros((iters, N))\n",
        "z[0] = phi(x0)\n",
        "\n",
        "for i in range(1, iters):\n",
        "    z[i] = U@z[i-1]\n",
        "    x_koop[i] = B@z[i]\n",
        "\n",
        "t = np.arange(iters)\n",
        "\n",
        "# Gráfico\n",
        "fig = go.Figure()\n",
        "\n",
        "fig.add_trace(go.Scatter(x=t, y=x[:,0], name='S real', mode='markers'))\n",
        "fig.add_trace(go.Scatter(x=t, y=x[:,1], name='I real', mode='markers'))\n",
        "fig.add_trace(go.Scatter(x=t, y=x[:,2], name='R real', mode='markers'))\n",
        "\n",
        "fig.add_trace(go.Scatter(x=t, y=x_koop[:,0], name='S predicho'))\n",
        "fig.add_trace(go.Scatter(x=t, y=x_koop[:,1], name='I predicho'))\n",
        "fig.add_trace(go.Scatter(x=t, y=x_koop[:,2], name='R predicho'))\n",
        "\n",
        "# Colocar titulo\n",
        "fig.update_layout(\n",
        "    title=f\"kEDMD para modelo SIR con {N} puntos\",\n",
        "    xaxis_title=\"Tiempo\",\n",
        "    yaxis_title=\"Población normalizada\"\n",
        "    )\n",
        "\n",
        "fig.show()"
      ],
      "metadata": {
        "colab": {
          "base_uri": "https://localhost:8080/",
          "height": 542
        },
        "id": "va7E38pM4djP",
        "outputId": "6aede5f9-5527-4f62-fa69-0dfcb74f8fa2"
      },
      "execution_count": 7,
      "outputs": [
        {
          "output_type": "display_data",
          "data": {
            "text/html": [
              "<html>\n",
              "<head><meta charset=\"utf-8\" /></head>\n",
              "<body>\n",
              "    <div>            <script src=\"https://cdnjs.cloudflare.com/ajax/libs/mathjax/2.7.5/MathJax.js?config=TeX-AMS-MML_SVG\"></script><script type=\"text/javascript\">if (window.MathJax && window.MathJax.Hub && window.MathJax.Hub.Config) {window.MathJax.Hub.Config({SVG: {font: \"STIX-Web\"}});}</script>                <script type=\"text/javascript\">window.PlotlyConfig = {MathJaxConfig: 'local'};</script>\n",
              "        <script charset=\"utf-8\" src=\"https://cdn.plot.ly/plotly-2.35.2.min.js\"></script>                <div id=\"a010bd0d-baa8-41ba-bfb5-c6f298caca58\" class=\"plotly-graph-div\" style=\"height:525px; width:100%;\"></div>            <script type=\"text/javascript\">                                    window.PLOTLYENV=window.PLOTLYENV || {};                                    if (document.getElementById(\"a010bd0d-baa8-41ba-bfb5-c6f298caca58\")) {                    Plotly.newPlot(                        \"a010bd0d-baa8-41ba-bfb5-c6f298caca58\",                        [{\"mode\":\"markers\",\"name\":\"S real\",\"x\":[0,1,2,3,4,5,6,7,8,9,10,11,12,13,14,15,16,17,18,19],\"y\":[0.9,0.81,0.6804,0.5160153599999999,0.34392184312872953,0.2044454522793087,0.11789160423465106,0.07275029164252098,0.049966720651300436,0.03787447167248711,0.031000388081461702,0.026848765729407205,0.02422035855571016,0.02249693135224789,0.02133760318446103,0.020543156520041926,0.0199914287304246,0.01960456188259697,0.019331411288497493,0.019137589553485206],\"type\":\"scatter\"},{\"mode\":\"markers\",\"name\":\"I real\",\"x\":[0,1,2,3,4,5,6,7,8,9,10,11,12,13,14,15,16,17,18,19],\"y\":[0.1,0.16,0.24160000000000004,0.3335046400000001,0.4055467648712705,0.4233591262593102,0.3829052364261748,0.31317497809045247,0.24200605565453726,0.18149648793698941,0.133921625146918,0.09789675995489708,0.071156139142125,0.051532724602949775,0.037232235389851695,0.026857011437315288,0.019351635795738027,0.01393301190484425,0.010026258927490456,0.007212202984255607],\"type\":\"scatter\"},{\"mode\":\"markers\",\"name\":\"R real\",\"x\":[0,1,2,3,4,5,6,7,8,9,10,11,12,13,14,15,16,17,18,19],\"y\":[0.0,0.03,0.078,0.15048,0.250531392,0.3721954214613812,0.49920315933917425,0.6140747302670266,0.7080272236941624,0.7806290403905236,0.8350779867716205,0.8752544743156959,0.904623502302165,0.9259703440448025,0.9414301614256875,0.952599832042643,0.9606569354738376,0.966462426212559,0.9706423297840122,0.9736502074622594],\"type\":\"scatter\"},{\"name\":\"S predicho\",\"x\":[0,1,2,3,4,5,6,7,8,9,10,11,12,13,14,15,16,17,18,19],\"y\":[0.8997391463530917,0.810122888151227,0.681317999295473,0.5175571962294043,0.34575376465122787,0.20598712411501197,0.11826358084053368,0.07150486222931818,0.04785405191734071,0.03530512502216254,0.02865840602439107,0.025423798047569335,0.02418953555606862,0.024210375675806972,0.025270405625626324,0.027396183779835326,0.030715594716440364,0.035393763386764476,0.04157251669705886,0.04935477199854432],\"type\":\"scatter\"},{\"name\":\"I predicho\",\"x\":[0,1,2,3,4,5,6,7,8,9,10,11,12,13,14,15,16,17,18,19],\"y\":[0.09995272933525712,0.15970133811259757,0.2409166593387937,0.33260830258693375,0.40473151575928057,0.4230382326980333,0.3836932075337671,0.31510739686018496,0.2441321470228246,0.1831981672918772,0.13461168989989858,0.0972530952805215,0.0690895294845717,0.048048430196459435,0.03232297857172739,0.02034957629913947,0.010844521773378801,0.0028659625584737114,-0.004211324981014286,-0.010766894713583497],\"type\":\"scatter\"},{\"name\":\"R predicho\",\"x\":[0,1,2,3,4,5,6,7,8,9,10,11,12,13,14,15,16,17,18,19],\"y\":[0.0003078528367410627,0.030175609838039463,0.07776550549122874,0.14983507920744898,0.24951564998575293,0.3709758395951468,0.4980446975211521,0.6133895630948274,0.7080157422713569,0.781498922992256,0.8367324246456462,0.8773258521360532,0.9067239082233556,0.9277444654148894,0.9424101323079697,0.9522578853171524,0.958443573354856,0.9617439624464055,0.9626424763697656,0.9614157584434082],\"type\":\"scatter\"}],                        {\"template\":{\"data\":{\"histogram2dcontour\":[{\"type\":\"histogram2dcontour\",\"colorbar\":{\"outlinewidth\":0,\"ticks\":\"\"},\"colorscale\":[[0.0,\"#0d0887\"],[0.1111111111111111,\"#46039f\"],[0.2222222222222222,\"#7201a8\"],[0.3333333333333333,\"#9c179e\"],[0.4444444444444444,\"#bd3786\"],[0.5555555555555556,\"#d8576b\"],[0.6666666666666666,\"#ed7953\"],[0.7777777777777778,\"#fb9f3a\"],[0.8888888888888888,\"#fdca26\"],[1.0,\"#f0f921\"]]}],\"choropleth\":[{\"type\":\"choropleth\",\"colorbar\":{\"outlinewidth\":0,\"ticks\":\"\"}}],\"histogram2d\":[{\"type\":\"histogram2d\",\"colorbar\":{\"outlinewidth\":0,\"ticks\":\"\"},\"colorscale\":[[0.0,\"#0d0887\"],[0.1111111111111111,\"#46039f\"],[0.2222222222222222,\"#7201a8\"],[0.3333333333333333,\"#9c179e\"],[0.4444444444444444,\"#bd3786\"],[0.5555555555555556,\"#d8576b\"],[0.6666666666666666,\"#ed7953\"],[0.7777777777777778,\"#fb9f3a\"],[0.8888888888888888,\"#fdca26\"],[1.0,\"#f0f921\"]]}],\"heatmap\":[{\"type\":\"heatmap\",\"colorbar\":{\"outlinewidth\":0,\"ticks\":\"\"},\"colorscale\":[[0.0,\"#0d0887\"],[0.1111111111111111,\"#46039f\"],[0.2222222222222222,\"#7201a8\"],[0.3333333333333333,\"#9c179e\"],[0.4444444444444444,\"#bd3786\"],[0.5555555555555556,\"#d8576b\"],[0.6666666666666666,\"#ed7953\"],[0.7777777777777778,\"#fb9f3a\"],[0.8888888888888888,\"#fdca26\"],[1.0,\"#f0f921\"]]}],\"heatmapgl\":[{\"type\":\"heatmapgl\",\"colorbar\":{\"outlinewidth\":0,\"ticks\":\"\"},\"colorscale\":[[0.0,\"#0d0887\"],[0.1111111111111111,\"#46039f\"],[0.2222222222222222,\"#7201a8\"],[0.3333333333333333,\"#9c179e\"],[0.4444444444444444,\"#bd3786\"],[0.5555555555555556,\"#d8576b\"],[0.6666666666666666,\"#ed7953\"],[0.7777777777777778,\"#fb9f3a\"],[0.8888888888888888,\"#fdca26\"],[1.0,\"#f0f921\"]]}],\"contourcarpet\":[{\"type\":\"contourcarpet\",\"colorbar\":{\"outlinewidth\":0,\"ticks\":\"\"}}],\"contour\":[{\"type\":\"contour\",\"colorbar\":{\"outlinewidth\":0,\"ticks\":\"\"},\"colorscale\":[[0.0,\"#0d0887\"],[0.1111111111111111,\"#46039f\"],[0.2222222222222222,\"#7201a8\"],[0.3333333333333333,\"#9c179e\"],[0.4444444444444444,\"#bd3786\"],[0.5555555555555556,\"#d8576b\"],[0.6666666666666666,\"#ed7953\"],[0.7777777777777778,\"#fb9f3a\"],[0.8888888888888888,\"#fdca26\"],[1.0,\"#f0f921\"]]}],\"surface\":[{\"type\":\"surface\",\"colorbar\":{\"outlinewidth\":0,\"ticks\":\"\"},\"colorscale\":[[0.0,\"#0d0887\"],[0.1111111111111111,\"#46039f\"],[0.2222222222222222,\"#7201a8\"],[0.3333333333333333,\"#9c179e\"],[0.4444444444444444,\"#bd3786\"],[0.5555555555555556,\"#d8576b\"],[0.6666666666666666,\"#ed7953\"],[0.7777777777777778,\"#fb9f3a\"],[0.8888888888888888,\"#fdca26\"],[1.0,\"#f0f921\"]]}],\"mesh3d\":[{\"type\":\"mesh3d\",\"colorbar\":{\"outlinewidth\":0,\"ticks\":\"\"}}],\"scatter\":[{\"fillpattern\":{\"fillmode\":\"overlay\",\"size\":10,\"solidity\":0.2},\"type\":\"scatter\"}],\"parcoords\":[{\"type\":\"parcoords\",\"line\":{\"colorbar\":{\"outlinewidth\":0,\"ticks\":\"\"}}}],\"scatterpolargl\":[{\"type\":\"scatterpolargl\",\"marker\":{\"colorbar\":{\"outlinewidth\":0,\"ticks\":\"\"}}}],\"bar\":[{\"error_x\":{\"color\":\"#2a3f5f\"},\"error_y\":{\"color\":\"#2a3f5f\"},\"marker\":{\"line\":{\"color\":\"#E5ECF6\",\"width\":0.5},\"pattern\":{\"fillmode\":\"overlay\",\"size\":10,\"solidity\":0.2}},\"type\":\"bar\"}],\"scattergeo\":[{\"type\":\"scattergeo\",\"marker\":{\"colorbar\":{\"outlinewidth\":0,\"ticks\":\"\"}}}],\"scatterpolar\":[{\"type\":\"scatterpolar\",\"marker\":{\"colorbar\":{\"outlinewidth\":0,\"ticks\":\"\"}}}],\"histogram\":[{\"marker\":{\"pattern\":{\"fillmode\":\"overlay\",\"size\":10,\"solidity\":0.2}},\"type\":\"histogram\"}],\"scattergl\":[{\"type\":\"scattergl\",\"marker\":{\"colorbar\":{\"outlinewidth\":0,\"ticks\":\"\"}}}],\"scatter3d\":[{\"type\":\"scatter3d\",\"line\":{\"colorbar\":{\"outlinewidth\":0,\"ticks\":\"\"}},\"marker\":{\"colorbar\":{\"outlinewidth\":0,\"ticks\":\"\"}}}],\"scattermapbox\":[{\"type\":\"scattermapbox\",\"marker\":{\"colorbar\":{\"outlinewidth\":0,\"ticks\":\"\"}}}],\"scatterternary\":[{\"type\":\"scatterternary\",\"marker\":{\"colorbar\":{\"outlinewidth\":0,\"ticks\":\"\"}}}],\"scattercarpet\":[{\"type\":\"scattercarpet\",\"marker\":{\"colorbar\":{\"outlinewidth\":0,\"ticks\":\"\"}}}],\"carpet\":[{\"aaxis\":{\"endlinecolor\":\"#2a3f5f\",\"gridcolor\":\"white\",\"linecolor\":\"white\",\"minorgridcolor\":\"white\",\"startlinecolor\":\"#2a3f5f\"},\"baxis\":{\"endlinecolor\":\"#2a3f5f\",\"gridcolor\":\"white\",\"linecolor\":\"white\",\"minorgridcolor\":\"white\",\"startlinecolor\":\"#2a3f5f\"},\"type\":\"carpet\"}],\"table\":[{\"cells\":{\"fill\":{\"color\":\"#EBF0F8\"},\"line\":{\"color\":\"white\"}},\"header\":{\"fill\":{\"color\":\"#C8D4E3\"},\"line\":{\"color\":\"white\"}},\"type\":\"table\"}],\"barpolar\":[{\"marker\":{\"line\":{\"color\":\"#E5ECF6\",\"width\":0.5},\"pattern\":{\"fillmode\":\"overlay\",\"size\":10,\"solidity\":0.2}},\"type\":\"barpolar\"}],\"pie\":[{\"automargin\":true,\"type\":\"pie\"}]},\"layout\":{\"autotypenumbers\":\"strict\",\"colorway\":[\"#636efa\",\"#EF553B\",\"#00cc96\",\"#ab63fa\",\"#FFA15A\",\"#19d3f3\",\"#FF6692\",\"#B6E880\",\"#FF97FF\",\"#FECB52\"],\"font\":{\"color\":\"#2a3f5f\"},\"hovermode\":\"closest\",\"hoverlabel\":{\"align\":\"left\"},\"paper_bgcolor\":\"white\",\"plot_bgcolor\":\"#E5ECF6\",\"polar\":{\"bgcolor\":\"#E5ECF6\",\"angularaxis\":{\"gridcolor\":\"white\",\"linecolor\":\"white\",\"ticks\":\"\"},\"radialaxis\":{\"gridcolor\":\"white\",\"linecolor\":\"white\",\"ticks\":\"\"}},\"ternary\":{\"bgcolor\":\"#E5ECF6\",\"aaxis\":{\"gridcolor\":\"white\",\"linecolor\":\"white\",\"ticks\":\"\"},\"baxis\":{\"gridcolor\":\"white\",\"linecolor\":\"white\",\"ticks\":\"\"},\"caxis\":{\"gridcolor\":\"white\",\"linecolor\":\"white\",\"ticks\":\"\"}},\"coloraxis\":{\"colorbar\":{\"outlinewidth\":0,\"ticks\":\"\"}},\"colorscale\":{\"sequential\":[[0.0,\"#0d0887\"],[0.1111111111111111,\"#46039f\"],[0.2222222222222222,\"#7201a8\"],[0.3333333333333333,\"#9c179e\"],[0.4444444444444444,\"#bd3786\"],[0.5555555555555556,\"#d8576b\"],[0.6666666666666666,\"#ed7953\"],[0.7777777777777778,\"#fb9f3a\"],[0.8888888888888888,\"#fdca26\"],[1.0,\"#f0f921\"]],\"sequentialminus\":[[0.0,\"#0d0887\"],[0.1111111111111111,\"#46039f\"],[0.2222222222222222,\"#7201a8\"],[0.3333333333333333,\"#9c179e\"],[0.4444444444444444,\"#bd3786\"],[0.5555555555555556,\"#d8576b\"],[0.6666666666666666,\"#ed7953\"],[0.7777777777777778,\"#fb9f3a\"],[0.8888888888888888,\"#fdca26\"],[1.0,\"#f0f921\"]],\"diverging\":[[0,\"#8e0152\"],[0.1,\"#c51b7d\"],[0.2,\"#de77ae\"],[0.3,\"#f1b6da\"],[0.4,\"#fde0ef\"],[0.5,\"#f7f7f7\"],[0.6,\"#e6f5d0\"],[0.7,\"#b8e186\"],[0.8,\"#7fbc41\"],[0.9,\"#4d9221\"],[1,\"#276419\"]]},\"xaxis\":{\"gridcolor\":\"white\",\"linecolor\":\"white\",\"ticks\":\"\",\"title\":{\"standoff\":15},\"zerolinecolor\":\"white\",\"automargin\":true,\"zerolinewidth\":2},\"yaxis\":{\"gridcolor\":\"white\",\"linecolor\":\"white\",\"ticks\":\"\",\"title\":{\"standoff\":15},\"zerolinecolor\":\"white\",\"automargin\":true,\"zerolinewidth\":2},\"scene\":{\"xaxis\":{\"backgroundcolor\":\"#E5ECF6\",\"gridcolor\":\"white\",\"linecolor\":\"white\",\"showbackground\":true,\"ticks\":\"\",\"zerolinecolor\":\"white\",\"gridwidth\":2},\"yaxis\":{\"backgroundcolor\":\"#E5ECF6\",\"gridcolor\":\"white\",\"linecolor\":\"white\",\"showbackground\":true,\"ticks\":\"\",\"zerolinecolor\":\"white\",\"gridwidth\":2},\"zaxis\":{\"backgroundcolor\":\"#E5ECF6\",\"gridcolor\":\"white\",\"linecolor\":\"white\",\"showbackground\":true,\"ticks\":\"\",\"zerolinecolor\":\"white\",\"gridwidth\":2}},\"shapedefaults\":{\"line\":{\"color\":\"#2a3f5f\"}},\"annotationdefaults\":{\"arrowcolor\":\"#2a3f5f\",\"arrowhead\":0,\"arrowwidth\":1},\"geo\":{\"bgcolor\":\"white\",\"landcolor\":\"#E5ECF6\",\"subunitcolor\":\"white\",\"showland\":true,\"showlakes\":true,\"lakecolor\":\"white\"},\"title\":{\"x\":0.05},\"mapbox\":{\"style\":\"light\"}}},\"title\":{\"text\":\"kEDMD para modelo SIR con 500 puntos\"},\"xaxis\":{\"title\":{\"text\":\"Tiempo\"}},\"yaxis\":{\"title\":{\"text\":\"Población normalizada\"}}},                        {\"responsive\": true}                    ).then(function(){\n",
              "                            \n",
              "var gd = document.getElementById('a010bd0d-baa8-41ba-bfb5-c6f298caca58');\n",
              "var x = new MutationObserver(function (mutations, observer) {{\n",
              "        var display = window.getComputedStyle(gd).display;\n",
              "        if (!display || display === 'none') {{\n",
              "            console.log([gd, 'removed!']);\n",
              "            Plotly.purge(gd);\n",
              "            observer.disconnect();\n",
              "        }}\n",
              "}});\n",
              "\n",
              "// Listen for the removal of the full notebook cells\n",
              "var notebookContainer = gd.closest('#notebook-container');\n",
              "if (notebookContainer) {{\n",
              "    x.observe(notebookContainer, {childList: true});\n",
              "}}\n",
              "\n",
              "// Listen for the clearing of the current output cell\n",
              "var outputEl = gd.closest('.output');\n",
              "if (outputEl) {{\n",
              "    x.observe(outputEl, {childList: true});\n",
              "}}\n",
              "\n",
              "                        })                };                            </script>        </div>\n",
              "</body>\n",
              "</html>"
            ]
          },
          "metadata": {}
        }
      ]
    },
    {
      "cell_type": "code",
      "source": [
        "fig.write_image(img_path+\"SIR.pdf\")"
      ],
      "metadata": {
        "id": "08ZzsXH9MFIK"
      },
      "execution_count": 8,
      "outputs": []
    }
  ]
}