{
 "cells": [
  {
   "cell_type": "markdown",
   "metadata": {},
   "source": [
    "## **Algoritmo de filtraje no lineal basado en Operador de Koopman aplicado a epidemiología**\n",
    "\n",
    "### **Capítulo 4: Algoritmo de filtraje no lineal en tiempo discreto**\n",
    "\n",
    "**Autor: Diego Olguín.**\n",
    "\n",
    "**Supervisores: Héctor Ramírez y Axel Osses.**"
   ]
  },
  {
   "cell_type": "code",
   "execution_count": 262,
   "metadata": {},
   "outputs": [],
   "source": [
    "chapter = \"chapter4/\"\n",
    "img_path = \"img/content/\"+chapter"
   ]
  },
  {
   "cell_type": "code",
   "execution_count": 263,
   "metadata": {},
   "outputs": [],
   "source": [
    "# Librerías generales\n",
    "import numpy as np\n",
    "from scipy import stats\n",
    "from sklearn.gaussian_process.kernels import Matern\n",
    "\n",
    "# Plotly\n",
    "import plotly.graph_objects as go\n",
    "import plotly.io as pio\n",
    "from plotly.subplots import make_subplots\n",
    "\n",
    "# Librerías propias\n",
    "import os\n",
    "\n",
    "# Dependencias de KKKF\n",
    "from KKKF.DynamicalSystems import DynamicalSystem\n",
    "from KKKF.kEDMD import KoopmanOperator\n",
    "import KKKF.applyKKKF as kkkf"
   ]
  },
  {
   "cell_type": "code",
   "execution_count": 264,
   "metadata": {},
   "outputs": [],
   "source": [
    "# Ajustar el tamaño de las figuras y los títulos para Plotly\n",
    "pio.templates.default = 'plotly'\n",
    "pio.templates['plotly'].layout.update(\n",
    "    title={'font': {'size': 24}},\n",
    "    xaxis={'title': {'font': {'size': 20}}},\n",
    "    yaxis={'title': {'font': {'size': 20}}},\n",
    "    legend={'font': {'size': 16}},\n",
    "    margin=dict(l=0, r=0, t=50, b=0),\n",
    "    width=1000, height=600\n",
    ");"
   ]
  },
  {
   "cell_type": "code",
   "execution_count": 265,
   "metadata": {},
   "outputs": [],
   "source": [
    "# Ajustar directorio para las imagénes\n",
    "root = \"/Users/diegoolguin/Koopman_nonlinear_filter\"\n",
    "if not os.getcwd()==root:\n",
    "    os.chdir(root)"
   ]
  },
  {
   "cell_type": "markdown",
   "metadata": {},
   "source": [
    "### **Comparación con el filtro de Kalman**"
   ]
  },
  {
   "cell_type": "code",
   "execution_count": 266,
   "metadata": {},
   "outputs": [],
   "source": [
    "# Función que implementa el filtro de Kalman\n",
    "def KalmanFilter(y, A, C, Q, R, x0, P0):\n",
    "    \"\"\"\n",
    "    Implementación del filtro de Kalman para un sistema lineal.\n",
    "    \n",
    "    Args:\n",
    "    y: np.array\n",
    "        Observaciones del sistema.\n",
    "    A: np.array\n",
    "        Matriz de transición de estado.\n",
    "    C: np.array\n",
    "        Matriz de observación.\n",
    "    Q: np.array\n",
    "        Covarianza del ruido del sistema.\n",
    "    R: np.array \n",
    "        Covarianza del ruido de las observaciones.\n",
    "    x0: np.array    \n",
    "        Estado inicial.\n",
    "    P0: np.array\n",
    "        Covarianza inicial.\n",
    "\n",
    "    Returns:\n",
    "    x: np.array\n",
    "        Estados estimados.\n",
    "    P: np.array\n",
    "        Covarianza de los estados estimados.\n",
    "    \"\"\"\n",
    "\n",
    "    # Número de observaciones\n",
    "    iters = y.shape[1]\n",
    "    \n",
    "    # Inicialización de los vectores de estado y covarianza\n",
    "    x = np.zeros((A.shape[0], iters))\n",
    "    P = np.zeros((A.shape[0], A.shape[0], iters))\n",
    "    \n",
    "    # Inicialización de los estados y covarianza iniciales\n",
    "    x[:, 0] = x0\n",
    "    P[:, :, 0] = P0\n",
    "    \n",
    "    # Iteración del filtro\n",
    "    for i in range(1, iters):\n",
    "        # Predicción\n",
    "        x[:, i] = A @ x[:, i-1]\n",
    "        P[:, :, i] = A @ P[:, :, i-1] @ A.T + Q\n",
    "        \n",
    "        # Actualización\n",
    "        K = P[:, :, i] @ C.T @ np.linalg.inv(C @ P[:, :, i] @ C.T + R)\n",
    "        x[:, i] = x[:, i] + K @ (y[:, i] - C @ x[:, i])\n",
    "        P[:, :, i] = P[:, :, i] - K @ C @ P[:, :, i]\n",
    "    \n",
    "    return x, P"
   ]
  },
  {
   "cell_type": "code",
   "execution_count": 267,
   "metadata": {},
   "outputs": [],
   "source": [
    "# Función para comparar los resultados del filtro de Kalman y el filtro no lineal\n",
    "def compare_filters(x0, x0_prior, A, C, Q, R, N, iters):\n",
    "    \"\"\"\n",
    "    Función que compara los resultados del filtro de Kalman y el filtro no lineal.\n",
    "    \n",
    "    Args:\n",
    "    x0: np.array\n",
    "        Condición inicial verdadera.\n",
    "    x0_prior: rv_continuous\n",
    "        Distribución para el estado inicial\n",
    "    A: np.array\n",
    "        Matriz de transición de estado.\n",
    "    C: np.array\n",
    "        Matriz de observación.\n",
    "    Q: np.array\n",
    "        Covarianza del ruido del sistema.\n",
    "    R: np.array\n",
    "        Covarianza del ruido de las observaciones.\n",
    "    N: int\n",
    "        Dimensión de aproximación de Koopman\n",
    "    iters: int\n",
    "        Número de iteraciones.\n",
    "\n",
    "    Returns:\n",
    "    x: np.array\n",
    "        Estados verdaderos del sistema.\n",
    "    x_kalman: np.array\n",
    "        Estados estimados por el filtro de Kalman.\n",
    "    x_kkkf: np.array\n",
    "        Estados estimados por el filtro no lineal.\n",
    "    \"\"\"\n",
    "    # Funciones de dinámica y observación\n",
    "    f = lambda x: A @ x\n",
    "    g = lambda x: C @ x\n",
    "\n",
    "    # Dimensiones\n",
    "    nx, ny = A.shape[0], C.shape[0]\n",
    "\n",
    "    # Distribuciones\n",
    "    X_dist = stats.multivariate_normal(mean=np.zeros(nx), cov=1*np.eye(nx))\n",
    "    dyn_dist = stats.multivariate_normal(mean=np.zeros(nx), cov=Q)\n",
    "    obs_dist = stats.multivariate_normal(mean=np.zeros(ny), cov=R)\n",
    "\n",
    "    # Sistema dinámico\n",
    "    dyn = DynamicalSystem(nx, ny, f, g, X_dist, dyn_dist, obs_dist, discrete_time=True)\n",
    "\n",
    "    # Operador de Koopman\n",
    "    koopman = KoopmanOperator(kernel_function=Matern(nu=1.5), dynamical_system=dyn)\n",
    "\n",
    "    # Trayectoria real y observaciones\n",
    "    x = np.zeros((nx, iters))\n",
    "    y = np.zeros((ny, iters))\n",
    "    x[:, 0] = x0\n",
    "    for i in range(1, iters):\n",
    "        x[:, i] = A @ x[:, i-1] + np.random.multivariate_normal(np.zeros(nx), Q)\n",
    "        y[:, i] = C @ x[:, i] + np.random.multivariate_normal(np.zeros(ny), R)\n",
    "\n",
    "    # Inicialización de las covarianzas iniciales\n",
    "    P0 = x0_prior.cov\n",
    "\n",
    "    # Filtro de Kalman\n",
    "    x_kalman, P_kalman = KalmanFilter(y, A, C, Q, R, x0_prior.mean, P0)\n",
    "\n",
    "    # Filtro no lineal\n",
    "    sol_kkkf = kkkf.apply_koopman_kalman_filter(koopman, y.T, x0_prior, N)\n",
    "    x_kkkf, P_kkkf = sol_kkkf.x_plus.T, sol_kkkf.Px_plus\n",
    "\n",
    "    return x, x_kalman, x_kkkf"
   ]
  },
  {
   "cell_type": "code",
   "execution_count": 268,
   "metadata": {},
   "outputs": [],
   "source": [
    "# Condición inicial real\n",
    "x0 = np.array([1, 1, 1])\n",
    "\n",
    "# Condición inicial prior\n",
    "x0_prior = stats.multivariate_normal(mean=np.array([0.8, 1.2, 0.9]), cov=0.01*np.eye(3))\n",
    "\n",
    "# Matrices de transición y observación\n",
    "A = np.array([\n",
    "        [1.01, 0.01, 0.0],\n",
    "        [0.01, 1.02, -.1],\n",
    "        [0.0, 0.04, 1.02]\n",
    "    ])\n",
    "\n",
    "C = np.array([\n",
    "    [1, 0, 0],\n",
    "    [0, 1, 0],\n",
    "])\n",
    "\n",
    "# Dimensiones\n",
    "nx, ny = A.shape[0], C.shape[0]\n",
    "\n",
    "# Covarianzas del ruido\n",
    "Q = 0.01*np.eye(nx)\n",
    "R = 0.01*np.eye(ny)\n",
    "\n",
    "# Número de dimensiones de aproximación\n",
    "N = 300\n",
    "\n",
    "# Número de iteraciones\n",
    "iters = 30"
   ]
  },
  {
   "cell_type": "code",
   "execution_count": 269,
   "metadata": {},
   "outputs": [
    {
     "data": {
      "application/vnd.plotly.v1+json": {
       "config": {
        "plotlyServerURL": "https://plot.ly"
       },
       "data": [
        {
         "mode": "lines",
         "name": "Real",
         "type": "scatter",
         "x": [
          0,
          1,
          2,
          3,
          4,
          5,
          6,
          7,
          8,
          9,
          10,
          11,
          12,
          13,
          14,
          15,
          16,
          17,
          18,
          19,
          20,
          21,
          22,
          23,
          24,
          25,
          26,
          27,
          28,
          29
         ],
         "xaxis": "x",
         "y": [
          1,
          1.1015582843819989,
          1.0479871392943034,
          1.2356482897168375,
          1.184771930926396,
          1.2907278116836427,
          1.310414853535978,
          1.3252541381240042,
          1.2802294699922723,
          1.3388559311653454,
          1.3805437888273022,
          1.3759184291781348,
          1.2955815418951633,
          1.142443827564044,
          0.9727223152713312,
          1.0224804189518104,
          0.9388456793338344,
          0.9411248425781179,
          0.8662932232641013,
          0.9308273693487873,
          1.0113117116237358,
          0.911483229044518,
          0.9184745824347393,
          1.163241911521665,
          1.3212569233186822,
          1.3800139707222068,
          1.2382881520714502,
          1.1529531346424828,
          1.1790131269753692,
          1.0407761243351439
         ],
         "yaxis": "y"
        },
        {
         "mode": "lines",
         "name": "Kalman",
         "type": "scatter",
         "x": [
          0,
          1,
          2,
          3,
          4,
          5,
          6,
          7,
          8,
          9,
          10,
          11,
          12,
          13,
          14,
          15,
          16,
          17,
          18,
          19,
          20,
          21,
          22,
          23,
          24,
          25,
          26,
          27,
          28,
          29
         ],
         "xaxis": "x",
         "y": [
          0.8,
          1.0117536042927895,
          1.1855663046145848,
          1.0929090339712735,
          1.3627230912722683,
          1.2538680274983827,
          1.29486306042383,
          1.3619016010859106,
          1.297378605285428,
          1.387388562190968,
          1.3876566375031962,
          1.3994223978389475,
          1.3469446539734304,
          1.2153218971273014,
          1.0739372920178045,
          0.9663245581009225,
          0.8916330281077413,
          0.8366934586323168,
          0.8238765160364268,
          0.938372833005745,
          0.9236369563186354,
          0.849724167485272,
          1.0067892219461756,
          1.0914983419779796,
          1.1926398477515452,
          1.3312155964175771,
          1.2059182224234803,
          1.0542256197201652,
          1.069289686183839,
          1.034717135909549
         ],
         "yaxis": "y"
        },
        {
         "mode": "lines",
         "name": "KKKF",
         "type": "scatter",
         "x": [
          0,
          1,
          2,
          3,
          4,
          5,
          6,
          7,
          8,
          9,
          10,
          11,
          12,
          13,
          14,
          15,
          16,
          17,
          18,
          19,
          20,
          21,
          22,
          23,
          24,
          25,
          26,
          27,
          28,
          29
         ],
         "xaxis": "x",
         "y": [
          0.8,
          0.8713876711668891,
          0.9586739343274442,
          0.9905174610723866,
          1.0954547748591072,
          1.1131702956015208,
          1.1501951657714113,
          1.1967505754041536,
          1.2061987603379625,
          1.2506274917348335,
          1.2757729125210648,
          1.3023501318769486,
          1.3086834719549774,
          1.2794954721377572,
          1.2206727990854649,
          1.1385847283836565,
          1.0457166521095915,
          0.9381688519721831,
          0.8450663190689977,
          0.775160051033267,
          0.6830057240163816,
          0.6082793102438904,
          0.5989480274802081,
          0.6247140792345336,
          0.6885217625367984,
          0.8044215766203625,
          0.8333426464020197,
          0.8043578895381409,
          0.7863786127963437,
          0.7864822394777121
         ],
         "yaxis": "y"
        },
        {
         "mode": "lines",
         "name": "Real",
         "type": "scatter",
         "x": [
          0,
          1,
          2,
          3,
          4,
          5,
          6,
          7,
          8,
          9,
          10,
          11,
          12,
          13,
          14,
          15,
          16,
          17,
          18,
          19,
          20,
          21,
          22,
          23,
          24,
          25,
          26,
          27,
          28,
          29
         ],
         "xaxis": "x2",
         "y": [
          1,
          0.9618856539309962,
          0.8647450007445259,
          0.7599066220738799,
          0.708098204064836,
          0.515810525059757,
          0.4090054074944186,
          0.46941322729524226,
          0.5407292555881729,
          0.48435627751444393,
          0.20531404132962455,
          0.12266041116669693,
          -0.15260873133264413,
          -0.5259693038687299,
          -0.7531296301818604,
          -1.0714601753573005,
          -1.276037702863021,
          -1.485604610226801,
          -1.7404001603153088,
          -1.8209084202897223,
          -2.0413094456136287,
          -2.156891329329072,
          -2.4945687218009325,
          -2.692549961520558,
          -2.801964563374714,
          -3.006676126081496,
          -3.2349414137934334,
          -3.289935949324223,
          -3.222520455436722,
          -3.1537565622308485
         ],
         "yaxis": "y2"
        },
        {
         "mode": "lines",
         "name": "Kalman",
         "type": "scatter",
         "x": [
          0,
          1,
          2,
          3,
          4,
          5,
          6,
          7,
          8,
          9,
          10,
          11,
          12,
          13,
          14,
          15,
          16,
          17,
          18,
          19,
          20,
          21,
          22,
          23,
          24,
          25,
          26,
          27,
          28,
          29
         ],
         "xaxis": "x2",
         "y": [
          1.2,
          1.041522452245623,
          0.8126570139531281,
          0.6631365294847447,
          0.5630542143247667,
          0.5080524389619165,
          0.4100654411982696,
          0.5121908064775538,
          0.593781605607199,
          0.47985917926417876,
          0.2124323983121842,
          0.02607716870710025,
          -0.13399274783209614,
          -0.36758504508260936,
          -0.7760702638524716,
          -1.1133663166496612,
          -1.1704177417041,
          -1.4805001267031166,
          -1.6237786521382398,
          -1.8931087161346756,
          -2.106921982420934,
          -2.1857622271227277,
          -2.4229114717556364,
          -2.649425088870352,
          -2.9565161876798762,
          -3.049536855844578,
          -3.2195877844857166,
          -3.4651684998420578,
          -3.3223050889674606,
          -3.2554737998002667
         ],
         "yaxis": "y2"
        },
        {
         "mode": "lines",
         "name": "KKKF",
         "type": "scatter",
         "x": [
          0,
          1,
          2,
          3,
          4,
          5,
          6,
          7,
          8,
          9,
          10,
          11,
          12,
          13,
          14,
          15,
          16,
          17,
          18,
          19,
          20,
          21,
          22,
          23,
          24,
          25,
          26,
          27,
          28,
          29
         ],
         "xaxis": "x2",
         "y": [
          1.2,
          1.134428766304678,
          1.017767222315891,
          0.8843523711465535,
          0.7486294220348948,
          0.6244986155082034,
          0.49731500753313024,
          0.4386415614085983,
          0.4051153899598711,
          0.3314257456495806,
          0.1975634745106585,
          0.06325727623620392,
          -0.07510035485085123,
          -0.2493652256059595,
          -0.5083015504461958,
          -0.7731015327770987,
          -0.9327830790765563,
          -1.144070421392097,
          -1.2993382690658248,
          -1.4810946772960605,
          -1.6341993024234527,
          -1.7418476928512465,
          -1.864210835847062,
          -1.9914865691841652,
          -2.149631859216168,
          -2.2709072082557293,
          -2.3727423974807396,
          -2.45407092713344,
          -2.386138189247379,
          -2.408824072997393
         ],
         "yaxis": "y2"
        },
        {
         "mode": "lines",
         "name": "Real",
         "type": "scatter",
         "x": [
          0,
          1,
          2,
          3,
          4,
          5,
          6,
          7,
          8,
          9,
          10,
          11,
          12,
          13,
          14,
          15,
          16,
          17,
          18,
          19,
          20,
          21,
          22,
          23,
          24,
          25,
          26,
          27,
          28,
          29
         ],
         "xaxis": "x3",
         "y": [
          1,
          1.0579183937921304,
          1.0605696190587117,
          1.1546307257097066,
          1.1590038516084584,
          1.2458488735087607,
          1.083261264856857,
          1.2238357636084432,
          1.3005440277357398,
          1.4922068897036038,
          1.4866564918924292,
          1.7068291048432038,
          1.6637065144954626,
          1.765763083607721,
          1.7246936740072893,
          1.8177455040601151,
          1.9361220514953392,
          2.0250856292762616,
          1.8478700010011493,
          1.630484846501031,
          1.5215467622885654,
          1.4586258260140756,
          1.1719705646601373,
          1.1005081306930018,
          0.989996296476528,
          1.005177708724909,
          1.039049875906623,
          0.8611119183458273,
          0.6085271995631182,
          0.6273380542958144
         ],
         "yaxis": "y3"
        },
        {
         "mode": "lines",
         "name": "Kalman",
         "type": "scatter",
         "x": [
          0,
          1,
          2,
          3,
          4,
          5,
          6,
          7,
          8,
          9,
          10,
          11,
          12,
          13,
          14,
          15,
          16,
          17,
          18,
          19,
          20,
          21,
          22,
          23,
          24,
          25,
          26,
          27,
          28,
          29
         ],
         "xaxis": "x3",
         "y": [
          0.9,
          0.9690948721899091,
          1.0493909953111216,
          1.1183346121005078,
          1.171827308540543,
          1.2021636431387703,
          1.2468533844714107,
          1.170226791765503,
          1.100677496792285,
          1.1672263272148506,
          1.3432898603415835,
          1.4358708891749454,
          1.4918090149006893,
          1.6004253840891898,
          1.8506605671963459,
          1.9958142724391965,
          1.8401712146449982,
          1.9400088155346842,
          1.847399591887032,
          1.8815137474914867,
          1.8404962030964689,
          1.6499401122004405,
          1.6351622905435441,
          1.597397314017886,
          1.6347325373903328,
          1.4264089906377853,
          1.3107360749047836,
          1.2730104091819565,
          0.8112231776416259,
          0.4780274527467054
         ],
         "yaxis": "y3"
        },
        {
         "mode": "lines",
         "name": "KKKF",
         "type": "scatter",
         "x": [
          0,
          1,
          2,
          3,
          4,
          5,
          6,
          7,
          8,
          9,
          10,
          11,
          12,
          13,
          14,
          15,
          16,
          17,
          18,
          19,
          20,
          21,
          22,
          23,
          24,
          25,
          26,
          27,
          28,
          29
         ],
         "xaxis": "x3",
         "y": [
          0.9,
          0.9824241113933203,
          1.0611207602661024,
          1.130263298249812,
          1.1831730770835933,
          1.225755363999816,
          1.2605258247744096,
          1.2674578238804672,
          1.2635992384276138,
          1.2690944915794984,
          1.303435053200602,
          1.3417748429624519,
          1.3892005152370035,
          1.4602356059736727,
          1.5575122957649832,
          1.614346364520776,
          1.5907441536158218,
          1.5758227855826024,
          1.5221906432074892,
          1.4410851279786194,
          1.3238620731814996,
          1.1879371488326655,
          0.9968038166667028,
          0.7885112159381026,
          0.5518389550806323,
          0.315291396871907,
          0.13210134707416882,
          0.0012482274498457346,
          -0.08996918953972718,
          -0.14998483778031957
         ],
         "yaxis": "y3"
        }
       ],
       "layout": {
        "annotations": [
         {
          "font": {
           "size": 16
          },
          "showarrow": false,
          "text": "Estado 1",
          "x": 0.5,
          "xanchor": "center",
          "xref": "paper",
          "y": 1,
          "yanchor": "bottom",
          "yref": "paper"
         },
         {
          "font": {
           "size": 16
          },
          "showarrow": false,
          "text": "Estado 2",
          "x": 0.5,
          "xanchor": "center",
          "xref": "paper",
          "y": 0.6111111111111112,
          "yanchor": "bottom",
          "yref": "paper"
         },
         {
          "font": {
           "size": 16
          },
          "showarrow": false,
          "text": "Estado 3",
          "x": 0.5,
          "xanchor": "center",
          "xref": "paper",
          "y": 0.22222222222222224,
          "yanchor": "bottom",
          "yref": "paper"
         }
        ],
        "template": {
         "data": {
          "bar": [
           {
            "error_x": {
             "color": "#2a3f5f"
            },
            "error_y": {
             "color": "#2a3f5f"
            },
            "marker": {
             "line": {
              "color": "#E5ECF6",
              "width": 0.5
             },
             "pattern": {
              "fillmode": "overlay",
              "size": 10,
              "solidity": 0.2
             }
            },
            "type": "bar"
           }
          ],
          "barpolar": [
           {
            "marker": {
             "line": {
              "color": "#E5ECF6",
              "width": 0.5
             },
             "pattern": {
              "fillmode": "overlay",
              "size": 10,
              "solidity": 0.2
             }
            },
            "type": "barpolar"
           }
          ],
          "carpet": [
           {
            "aaxis": {
             "endlinecolor": "#2a3f5f",
             "gridcolor": "white",
             "linecolor": "white",
             "minorgridcolor": "white",
             "startlinecolor": "#2a3f5f"
            },
            "baxis": {
             "endlinecolor": "#2a3f5f",
             "gridcolor": "white",
             "linecolor": "white",
             "minorgridcolor": "white",
             "startlinecolor": "#2a3f5f"
            },
            "type": "carpet"
           }
          ],
          "choropleth": [
           {
            "colorbar": {
             "outlinewidth": 0,
             "ticks": ""
            },
            "type": "choropleth"
           }
          ],
          "contour": [
           {
            "colorbar": {
             "outlinewidth": 0,
             "ticks": ""
            },
            "colorscale": [
             [
              0,
              "#0d0887"
             ],
             [
              0.1111111111111111,
              "#46039f"
             ],
             [
              0.2222222222222222,
              "#7201a8"
             ],
             [
              0.3333333333333333,
              "#9c179e"
             ],
             [
              0.4444444444444444,
              "#bd3786"
             ],
             [
              0.5555555555555556,
              "#d8576b"
             ],
             [
              0.6666666666666666,
              "#ed7953"
             ],
             [
              0.7777777777777778,
              "#fb9f3a"
             ],
             [
              0.8888888888888888,
              "#fdca26"
             ],
             [
              1,
              "#f0f921"
             ]
            ],
            "type": "contour"
           }
          ],
          "contourcarpet": [
           {
            "colorbar": {
             "outlinewidth": 0,
             "ticks": ""
            },
            "type": "contourcarpet"
           }
          ],
          "heatmap": [
           {
            "colorbar": {
             "outlinewidth": 0,
             "ticks": ""
            },
            "colorscale": [
             [
              0,
              "#0d0887"
             ],
             [
              0.1111111111111111,
              "#46039f"
             ],
             [
              0.2222222222222222,
              "#7201a8"
             ],
             [
              0.3333333333333333,
              "#9c179e"
             ],
             [
              0.4444444444444444,
              "#bd3786"
             ],
             [
              0.5555555555555556,
              "#d8576b"
             ],
             [
              0.6666666666666666,
              "#ed7953"
             ],
             [
              0.7777777777777778,
              "#fb9f3a"
             ],
             [
              0.8888888888888888,
              "#fdca26"
             ],
             [
              1,
              "#f0f921"
             ]
            ],
            "type": "heatmap"
           }
          ],
          "heatmapgl": [
           {
            "colorbar": {
             "outlinewidth": 0,
             "ticks": ""
            },
            "colorscale": [
             [
              0,
              "#0d0887"
             ],
             [
              0.1111111111111111,
              "#46039f"
             ],
             [
              0.2222222222222222,
              "#7201a8"
             ],
             [
              0.3333333333333333,
              "#9c179e"
             ],
             [
              0.4444444444444444,
              "#bd3786"
             ],
             [
              0.5555555555555556,
              "#d8576b"
             ],
             [
              0.6666666666666666,
              "#ed7953"
             ],
             [
              0.7777777777777778,
              "#fb9f3a"
             ],
             [
              0.8888888888888888,
              "#fdca26"
             ],
             [
              1,
              "#f0f921"
             ]
            ],
            "type": "heatmapgl"
           }
          ],
          "histogram": [
           {
            "marker": {
             "pattern": {
              "fillmode": "overlay",
              "size": 10,
              "solidity": 0.2
             }
            },
            "type": "histogram"
           }
          ],
          "histogram2d": [
           {
            "colorbar": {
             "outlinewidth": 0,
             "ticks": ""
            },
            "colorscale": [
             [
              0,
              "#0d0887"
             ],
             [
              0.1111111111111111,
              "#46039f"
             ],
             [
              0.2222222222222222,
              "#7201a8"
             ],
             [
              0.3333333333333333,
              "#9c179e"
             ],
             [
              0.4444444444444444,
              "#bd3786"
             ],
             [
              0.5555555555555556,
              "#d8576b"
             ],
             [
              0.6666666666666666,
              "#ed7953"
             ],
             [
              0.7777777777777778,
              "#fb9f3a"
             ],
             [
              0.8888888888888888,
              "#fdca26"
             ],
             [
              1,
              "#f0f921"
             ]
            ],
            "type": "histogram2d"
           }
          ],
          "histogram2dcontour": [
           {
            "colorbar": {
             "outlinewidth": 0,
             "ticks": ""
            },
            "colorscale": [
             [
              0,
              "#0d0887"
             ],
             [
              0.1111111111111111,
              "#46039f"
             ],
             [
              0.2222222222222222,
              "#7201a8"
             ],
             [
              0.3333333333333333,
              "#9c179e"
             ],
             [
              0.4444444444444444,
              "#bd3786"
             ],
             [
              0.5555555555555556,
              "#d8576b"
             ],
             [
              0.6666666666666666,
              "#ed7953"
             ],
             [
              0.7777777777777778,
              "#fb9f3a"
             ],
             [
              0.8888888888888888,
              "#fdca26"
             ],
             [
              1,
              "#f0f921"
             ]
            ],
            "type": "histogram2dcontour"
           }
          ],
          "mesh3d": [
           {
            "colorbar": {
             "outlinewidth": 0,
             "ticks": ""
            },
            "type": "mesh3d"
           }
          ],
          "parcoords": [
           {
            "line": {
             "colorbar": {
              "outlinewidth": 0,
              "ticks": ""
             }
            },
            "type": "parcoords"
           }
          ],
          "pie": [
           {
            "automargin": true,
            "type": "pie"
           }
          ],
          "scatter": [
           {
            "fillpattern": {
             "fillmode": "overlay",
             "size": 10,
             "solidity": 0.2
            },
            "type": "scatter"
           }
          ],
          "scatter3d": [
           {
            "line": {
             "colorbar": {
              "outlinewidth": 0,
              "ticks": ""
             }
            },
            "marker": {
             "colorbar": {
              "outlinewidth": 0,
              "ticks": ""
             }
            },
            "type": "scatter3d"
           }
          ],
          "scattercarpet": [
           {
            "marker": {
             "colorbar": {
              "outlinewidth": 0,
              "ticks": ""
             }
            },
            "type": "scattercarpet"
           }
          ],
          "scattergeo": [
           {
            "marker": {
             "colorbar": {
              "outlinewidth": 0,
              "ticks": ""
             }
            },
            "type": "scattergeo"
           }
          ],
          "scattergl": [
           {
            "marker": {
             "colorbar": {
              "outlinewidth": 0,
              "ticks": ""
             }
            },
            "type": "scattergl"
           }
          ],
          "scattermapbox": [
           {
            "marker": {
             "colorbar": {
              "outlinewidth": 0,
              "ticks": ""
             }
            },
            "type": "scattermapbox"
           }
          ],
          "scatterpolar": [
           {
            "marker": {
             "colorbar": {
              "outlinewidth": 0,
              "ticks": ""
             }
            },
            "type": "scatterpolar"
           }
          ],
          "scatterpolargl": [
           {
            "marker": {
             "colorbar": {
              "outlinewidth": 0,
              "ticks": ""
             }
            },
            "type": "scatterpolargl"
           }
          ],
          "scatterternary": [
           {
            "marker": {
             "colorbar": {
              "outlinewidth": 0,
              "ticks": ""
             }
            },
            "type": "scatterternary"
           }
          ],
          "surface": [
           {
            "colorbar": {
             "outlinewidth": 0,
             "ticks": ""
            },
            "colorscale": [
             [
              0,
              "#0d0887"
             ],
             [
              0.1111111111111111,
              "#46039f"
             ],
             [
              0.2222222222222222,
              "#7201a8"
             ],
             [
              0.3333333333333333,
              "#9c179e"
             ],
             [
              0.4444444444444444,
              "#bd3786"
             ],
             [
              0.5555555555555556,
              "#d8576b"
             ],
             [
              0.6666666666666666,
              "#ed7953"
             ],
             [
              0.7777777777777778,
              "#fb9f3a"
             ],
             [
              0.8888888888888888,
              "#fdca26"
             ],
             [
              1,
              "#f0f921"
             ]
            ],
            "type": "surface"
           }
          ],
          "table": [
           {
            "cells": {
             "fill": {
              "color": "#EBF0F8"
             },
             "line": {
              "color": "white"
             }
            },
            "header": {
             "fill": {
              "color": "#C8D4E3"
             },
             "line": {
              "color": "white"
             }
            },
            "type": "table"
           }
          ]
         },
         "layout": {
          "annotationdefaults": {
           "arrowcolor": "#2a3f5f",
           "arrowhead": 0,
           "arrowwidth": 1
          },
          "autotypenumbers": "strict",
          "coloraxis": {
           "colorbar": {
            "outlinewidth": 0,
            "ticks": ""
           }
          },
          "colorscale": {
           "diverging": [
            [
             0,
             "#8e0152"
            ],
            [
             0.1,
             "#c51b7d"
            ],
            [
             0.2,
             "#de77ae"
            ],
            [
             0.3,
             "#f1b6da"
            ],
            [
             0.4,
             "#fde0ef"
            ],
            [
             0.5,
             "#f7f7f7"
            ],
            [
             0.6,
             "#e6f5d0"
            ],
            [
             0.7,
             "#b8e186"
            ],
            [
             0.8,
             "#7fbc41"
            ],
            [
             0.9,
             "#4d9221"
            ],
            [
             1,
             "#276419"
            ]
           ],
           "sequential": [
            [
             0,
             "#0d0887"
            ],
            [
             0.1111111111111111,
             "#46039f"
            ],
            [
             0.2222222222222222,
             "#7201a8"
            ],
            [
             0.3333333333333333,
             "#9c179e"
            ],
            [
             0.4444444444444444,
             "#bd3786"
            ],
            [
             0.5555555555555556,
             "#d8576b"
            ],
            [
             0.6666666666666666,
             "#ed7953"
            ],
            [
             0.7777777777777778,
             "#fb9f3a"
            ],
            [
             0.8888888888888888,
             "#fdca26"
            ],
            [
             1,
             "#f0f921"
            ]
           ],
           "sequentialminus": [
            [
             0,
             "#0d0887"
            ],
            [
             0.1111111111111111,
             "#46039f"
            ],
            [
             0.2222222222222222,
             "#7201a8"
            ],
            [
             0.3333333333333333,
             "#9c179e"
            ],
            [
             0.4444444444444444,
             "#bd3786"
            ],
            [
             0.5555555555555556,
             "#d8576b"
            ],
            [
             0.6666666666666666,
             "#ed7953"
            ],
            [
             0.7777777777777778,
             "#fb9f3a"
            ],
            [
             0.8888888888888888,
             "#fdca26"
            ],
            [
             1,
             "#f0f921"
            ]
           ]
          },
          "colorway": [
           "#636efa",
           "#EF553B",
           "#00cc96",
           "#ab63fa",
           "#FFA15A",
           "#19d3f3",
           "#FF6692",
           "#B6E880",
           "#FF97FF",
           "#FECB52"
          ],
          "font": {
           "color": "#2a3f5f"
          },
          "geo": {
           "bgcolor": "white",
           "lakecolor": "white",
           "landcolor": "#E5ECF6",
           "showlakes": true,
           "showland": true,
           "subunitcolor": "white"
          },
          "height": 600,
          "hoverlabel": {
           "align": "left"
          },
          "hovermode": "closest",
          "legend": {
           "font": {
            "size": 16
           }
          },
          "mapbox": {
           "style": "light"
          },
          "margin": {
           "b": 0,
           "l": 0,
           "r": 0,
           "t": 50
          },
          "paper_bgcolor": "white",
          "plot_bgcolor": "#E5ECF6",
          "polar": {
           "angularaxis": {
            "gridcolor": "white",
            "linecolor": "white",
            "ticks": ""
           },
           "bgcolor": "#E5ECF6",
           "radialaxis": {
            "gridcolor": "white",
            "linecolor": "white",
            "ticks": ""
           }
          },
          "scene": {
           "xaxis": {
            "backgroundcolor": "#E5ECF6",
            "gridcolor": "white",
            "gridwidth": 2,
            "linecolor": "white",
            "showbackground": true,
            "ticks": "",
            "zerolinecolor": "white"
           },
           "yaxis": {
            "backgroundcolor": "#E5ECF6",
            "gridcolor": "white",
            "gridwidth": 2,
            "linecolor": "white",
            "showbackground": true,
            "ticks": "",
            "zerolinecolor": "white"
           },
           "zaxis": {
            "backgroundcolor": "#E5ECF6",
            "gridcolor": "white",
            "gridwidth": 2,
            "linecolor": "white",
            "showbackground": true,
            "ticks": "",
            "zerolinecolor": "white"
           }
          },
          "shapedefaults": {
           "line": {
            "color": "#2a3f5f"
           }
          },
          "ternary": {
           "aaxis": {
            "gridcolor": "white",
            "linecolor": "white",
            "ticks": ""
           },
           "baxis": {
            "gridcolor": "white",
            "linecolor": "white",
            "ticks": ""
           },
           "bgcolor": "#E5ECF6",
           "caxis": {
            "gridcolor": "white",
            "linecolor": "white",
            "ticks": ""
           }
          },
          "title": {
           "font": {
            "size": 24
           },
           "x": 0.05
          },
          "width": 1000,
          "xaxis": {
           "automargin": true,
           "gridcolor": "white",
           "linecolor": "white",
           "ticks": "",
           "title": {
            "font": {
             "size": 20
            },
            "standoff": 15
           },
           "zerolinecolor": "white",
           "zerolinewidth": 2
          },
          "yaxis": {
           "automargin": true,
           "gridcolor": "white",
           "linecolor": "white",
           "ticks": "",
           "title": {
            "font": {
             "size": 20
            },
            "standoff": 15
           },
           "zerolinecolor": "white",
           "zerolinewidth": 2
          }
         }
        },
        "title": {
         "text": "Comparación de los filtros de Kalman y KKKF"
        },
        "xaxis": {
         "anchor": "y",
         "domain": [
          0,
          1
         ]
        },
        "xaxis2": {
         "anchor": "y2",
         "domain": [
          0,
          1
         ]
        },
        "xaxis3": {
         "anchor": "y3",
         "domain": [
          0,
          1
         ]
        },
        "yaxis": {
         "anchor": "x",
         "domain": [
          0.7777777777777778,
          1
         ]
        },
        "yaxis2": {
         "anchor": "x2",
         "domain": [
          0.3888888888888889,
          0.6111111111111112
         ]
        },
        "yaxis3": {
         "anchor": "x3",
         "domain": [
          0,
          0.22222222222222224
         ]
        }
       }
      }
     },
     "metadata": {},
     "output_type": "display_data"
    }
   ],
   "source": [
    "# Comparación de los filtros\n",
    "x, x_kalman, x_kkkf = compare_filters(x0, x0_prior, A, C, Q, R, N, iters)\n",
    "\n",
    "# Gráfico\n",
    "fig = make_subplots(rows=3, cols=1, subplot_titles=(\"Estado 1\", \"Estado 2\", \"Estado 3\"))\n",
    "\n",
    "fig.add_trace(go.Scatter(x=np.arange(iters), y=x[0, :], mode='lines', name='Real'), row=1, col=1)\n",
    "fig.add_trace(go.Scatter(x=np.arange(iters), y=x_kalman[0, :], mode='lines', name='Kalman'), row=1, col=1)\n",
    "fig.add_trace(go.Scatter(x=np.arange(iters), y=x_kkkf[0, :], mode='lines', name='KKKF'), row=1, col=1)\n",
    "\n",
    "fig.add_trace(go.Scatter(x=np.arange(iters), y=x[1, :], mode='lines', name='Real'), row=2, col=1)\n",
    "fig.add_trace(go.Scatter(x=np.arange(iters), y=x_kalman[1, :], mode='lines', name='Kalman'), row=2, col=1)\n",
    "fig.add_trace(go.Scatter(x=np.arange(iters), y=x_kkkf[1, :], mode='lines', name='KKKF'), row=2, col=1)\n",
    "\n",
    "fig.add_trace(go.Scatter(x=np.arange(iters), y=x[2, :], mode='lines', name='Real'), row=3, col=1)\n",
    "fig.add_trace(go.Scatter(x=np.arange(iters), y=x_kalman[2, :], mode='lines', name='Kalman'), row=3, col=1)\n",
    "fig.add_trace(go.Scatter(x=np.arange(iters), y=x_kkkf[2, :], mode='lines', name='KKKF'), row=3, col=1)\n",
    "\n",
    "fig.update_layout(title_text=\"Comparación de los filtros de Kalman y KKKF\")\n",
    "fig.show()"
   ]
  }
 ],
 "metadata": {
  "kernelspec": {
   "display_name": "thesis",
   "language": "python",
   "name": "python3"
  },
  "language_info": {
   "codemirror_mode": {
    "name": "ipython",
    "version": 3
   },
   "file_extension": ".py",
   "mimetype": "text/x-python",
   "name": "python",
   "nbconvert_exporter": "python",
   "pygments_lexer": "ipython3",
   "version": "3.13.1"
  }
 },
 "nbformat": 4,
 "nbformat_minor": 2
}
